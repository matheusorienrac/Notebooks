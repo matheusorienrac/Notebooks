{
 "cells": [
  {
   "cell_type": "code",
   "execution_count": 48,
   "metadata": {
    "ExecuteTime": {
     "end_time": "2021-04-07T19:12:47.323081Z",
     "start_time": "2021-04-07T19:12:47.305125Z"
    },
    "id": "P39amoTDuw0U"
   },
   "outputs": [],
   "source": [
    "import numpy as np\n",
    "import matplotlib.pyplot as plt\n",
    "import pandas as pd"
   ]
  },
  {
   "cell_type": "markdown",
   "metadata": {
    "ExecuteTime": {
     "end_time": "2021-04-07T18:52:45.549011Z",
     "start_time": "2021-04-07T18:52:45.529063Z"
    }
   },
   "source": [
    "# Titanic dataset notebook\n",
    "\n",
    "This notebook contains my take on the titanic dataset machine learning competition from kaggle!\n",
    "Lets start by reading the train data and test data provided by the website."
   ]
  },
  {
   "cell_type": "code",
   "execution_count": 361,
   "metadata": {
    "ExecuteTime": {
     "end_time": "2021-04-08T02:37:20.470057Z",
     "start_time": "2021-04-08T02:37:20.447094Z"
    },
    "id": "Bu6KKzfVu1L7",
    "scrolled": true
   },
   "outputs": [
    {
     "name": "stdout",
     "output_type": "stream",
     "text": [
      "     PassengerId  Survived  Pclass  \\\n",
      "0              1         0       3   \n",
      "1              2         1       1   \n",
      "2              3         1       3   \n",
      "3              4         1       1   \n",
      "4              5         0       3   \n",
      "..           ...       ...     ...   \n",
      "886          887         0       2   \n",
      "887          888         1       1   \n",
      "888          889         0       3   \n",
      "889          890         1       1   \n",
      "890          891         0       3   \n",
      "\n",
      "                                                  Name     Sex   Age  SibSp  \\\n",
      "0                              Braund, Mr. Owen Harris    male  22.0      1   \n",
      "1    Cumings, Mrs. John Bradley (Florence Briggs Th...  female  38.0      1   \n",
      "2                               Heikkinen, Miss. Laina  female  26.0      0   \n",
      "3         Futrelle, Mrs. Jacques Heath (Lily May Peel)  female  35.0      1   \n",
      "4                             Allen, Mr. William Henry    male  35.0      0   \n",
      "..                                                 ...     ...   ...    ...   \n",
      "886                              Montvila, Rev. Juozas    male  27.0      0   \n",
      "887                       Graham, Miss. Margaret Edith  female  19.0      0   \n",
      "888           Johnston, Miss. Catherine Helen \"Carrie\"  female   NaN      1   \n",
      "889                              Behr, Mr. Karl Howell    male  26.0      0   \n",
      "890                                Dooley, Mr. Patrick    male  32.0      0   \n",
      "\n",
      "     Parch            Ticket     Fare Cabin Embarked  \n",
      "0        0         A/5 21171   7.2500   NaN        S  \n",
      "1        0          PC 17599  71.2833   C85        C  \n",
      "2        0  STON/O2. 3101282   7.9250   NaN        S  \n",
      "3        0            113803  53.1000  C123        S  \n",
      "4        0            373450   8.0500   NaN        S  \n",
      "..     ...               ...      ...   ...      ...  \n",
      "886      0            211536  13.0000   NaN        S  \n",
      "887      0            112053  30.0000   B42        S  \n",
      "888      2        W./C. 6607  23.4500   NaN        S  \n",
      "889      0            111369  30.0000  C148        C  \n",
      "890      0            370376   7.7500   NaN        Q  \n",
      "\n",
      "[891 rows x 12 columns]\n"
     ]
    }
   ],
   "source": [
    "train_data = pd.read_csv('titanic_train.csv')\n",
    "test_data = pd.read_csv('titanic_test.csv')\n",
    "pd.set_option('max_columns', None)  # makes all columns visible on print\n",
    "\n",
    "print(train_data)  # 12 columns total: with Survived being the dependent variable"
   ]
  },
  {
   "cell_type": "code",
   "execution_count": 362,
   "metadata": {
    "ExecuteTime": {
     "end_time": "2021-04-08T02:37:21.016078Z",
     "start_time": "2021-04-08T02:37:20.996107Z"
    },
    "colab": {
     "base_uri": "https://localhost:8080/",
     "height": 296
    },
    "executionInfo": {
     "elapsed": 1315,
     "status": "ok",
     "timestamp": 1612618636344,
     "user": {
      "displayName": "frozenfrostlol",
      "photoUrl": "https://lh3.googleusercontent.com/a-/AOh14GgLVg_77MhvwTg2bsWZB6ZFWpuvLmvZGVT2w2vPBQ=s64",
      "userId": "14733530340112846957"
     },
     "user_tz": 0
    },
    "id": "l1IHt8qELdPS",
    "outputId": "ef2640e7-1d74-4434-fa4d-2c4b19ca3b48"
   },
   "outputs": [
    {
     "name": "stdout",
     "output_type": "stream",
     "text": [
      "False    714\n",
      "True     177\n",
      "Name: Age, dtype: int64\n",
      "True     687\n",
      "False    204\n",
      "Name: Cabin, dtype: int64\n",
      "False    889\n",
      "True       2\n",
      "Name: Embarked, dtype: int64\n"
     ]
    }
   ],
   "source": [
    "helper = ['n', 'c', 'c', 'c', 'c', 'n', 'n', 'n',\n",
    "          'n', 'n', 'c', 'c']  # n = numeric variable\n",
    "# c = categorical variable (created using kaggles description of each variable)\n",
    "train_data.isna().any()\n",
    "# Age, Cabin and Embarked columns contains missing values\n",
    "\n",
    "print(train_data[\"Age\"].isna().value_counts())  # 177 missing values\n",
    "print(train_data[\"Cabin\"].isna().value_counts())  # 687 missing values\n",
    "print(train_data[\"Embarked\"].isna().value_counts())  # 2 missing values"
   ]
  },
  {
   "cell_type": "code",
   "execution_count": 363,
   "metadata": {
    "ExecuteTime": {
     "end_time": "2021-04-08T02:37:22.023217Z",
     "start_time": "2021-04-08T02:37:21.752935Z"
    },
    "scrolled": false
   },
   "outputs": [
    {
     "name": "stdout",
     "output_type": "stream",
     "text": [
      "24.00    30\n",
      "22.00    27\n",
      "18.00    26\n",
      "28.00    25\n",
      "19.00    25\n",
      "         ..\n",
      "55.50     1\n",
      "74.00     1\n",
      "0.92      1\n",
      "70.50     1\n",
      "12.00     1\n",
      "Name: Age, Length: 88, dtype: int64\n",
      "B96 B98        4\n",
      "G6             4\n",
      "C23 C25 C27    4\n",
      "C22 C26        3\n",
      "F33            3\n",
      "              ..\n",
      "C95            1\n",
      "A34            1\n",
      "E58            1\n",
      "D21            1\n",
      "B101           1\n",
      "Name: Cabin, Length: 147, dtype: int64\n",
      "S    644\n",
      "C    168\n",
      "Q     77\n",
      "Name: Embarked, dtype: int64\n",
      "Total rows for col age: 712\n"
     ]
    },
    {
     "data": {
      "image/png": "[encoded data removed]",
      "text/plain": [
       "<Figure size 432x288 with 1 Axes>"
      ]
     },
     "metadata": {
      "needs_background": "light"
     },
     "output_type": "display_data"
    },
    {
     "data": {
      "image/png": "[encoded data removed]",
      "text/plain": [
       "<Figure size 432x288 with 1 Axes>"
      ]
     },
     "metadata": {
      "needs_background": "light"
     },
     "output_type": "display_data"
    }
   ],
   "source": [
    "# Investigating these 3 variables a little bit further:\n",
    "\n",
    "print(train_data[\"Age\"].value_counts())\n",
    "print(train_data[\"Cabin\"].value_counts())\n",
    "print(train_data[\"Embarked\"].value_counts())\n",
    "\n",
    "# Plot somewhat resembles a gamma distribution\n",
    "plt.hist(train_data[\"Age\"])\n",
    "plt.title('Histogram of Age')\n",
    "plt.xlabel('Age')\n",
    "plt.ylabel('Frequency')\n",
    "\n",
    "train_data.plot.scatter(x='Age', y='Survived')\n",
    "\n",
    "# Age information has a lot of missing values aswell, but seems a variable worth\n",
    "# testing how much it explains the \"Survived\" column. First test will be made\n",
    "# removing all the NaNs from Age.\n",
    "\n",
    "# Cabin information is weird. There are sometimes more than 1 cabin per person\n",
    "# and has a lot of missing values. For now we'll proceed without it.\n",
    "\n",
    "del train_data[\"Cabin\"]\n",
    "train_data\n",
    "\n",
    "# Dropped all missing values from age and embarked\n",
    "train_data.dropna(inplace=True)\n",
    "print(\"Total rows for col age:\",\n",
    "      len(train_data[\"Age\"]))  # total has been reduced by 179 (177 + 2)\n",
    "\n",
    "# Embarked information seems it could be useful, will keep it"
   ]
  },
  {
   "cell_type": "markdown",
   "metadata": {},
   "source": [
    "Now that we have removed all missing values, we'll analyze the remaining variables"
   ]
  },
  {
   "cell_type": "code",
   "execution_count": 364,
   "metadata": {
    "ExecuteTime": {
     "end_time": "2021-04-08T02:37:24.444806Z",
     "start_time": "2021-04-08T02:37:24.078785Z"
    },
    "colab": {
     "base_uri": "https://localhost:8080/",
     "height": 452
    },
    "executionInfo": {
     "elapsed": 1253,
     "status": "ok",
     "timestamp": 1612577891406,
     "user": {
      "displayName": "frozenfrostlol",
      "photoUrl": "https://lh3.googleusercontent.com/a-/AOh14GgLVg_77MhvwTg2bsWZB6ZFWpuvLmvZGVT2w2vPBQ=s64",
      "userId": "14733530340112846957"
     },
     "user_tz": 0
    },
    "id": "NsOy9S8xKblS",
    "outputId": "6b48105a-e24f-4225-cd64-df8a417542ee"
   },
   "outputs": [
    {
     "name": "stdout",
     "output_type": "stream",
     "text": [
      "0.6521739130434783people from the class 1 survived out of a total 184\n",
      "0.4797687861271676people from the class 2 survived out of a total 173\n",
      "0.23943661971830985people from the class 3 survived out of a total 355\n"
     ]
    },
    {
     "data": {
      "text/plain": [
       "[Text(0.5, 0, 'Pclass'), Text(0, 0.5, 'Percentage of Survivors')]"
      ]
     },
     "execution_count": 364,
     "metadata": {},
     "output_type": "execute_result"
    },
    {
     "data": {
      "image/png": "[encoded data removed]",
      "text/plain": [
       "<Figure size 432x288 with 1 Axes>"
      ]
     },
     "metadata": {
      "needs_background": "light"
     },
     "output_type": "display_data"
    },
    {
     "data": {
      "image/png": "[encoded data removed]",
      "text/plain": [
       "<Figure size 432x288 with 2 Axes>"
      ]
     },
     "metadata": {
      "needs_background": "light"
     },
     "output_type": "display_data"
    }
   ],
   "source": [
    "# Passenger ID will be maintained because the order that the passengers were\n",
    "# added to the database may have something to do with their likelihood of survival.\n",
    "\n",
    "# By looking at the scatterplot, it doesn't seem to be the case though.\n",
    "train_data.plot.scatter(x=\"PassengerId\", y=\"Survived\")\n",
    "\n",
    "# Survived column is of course our variable of interest and dependent variable\n",
    "# and will be used in the models that we'll test.\n",
    "# print(train_data['Survived'].value_counts())  # 342 survived and 549 didnt\n",
    "\n",
    "# Pclass column has information about the social economic status of the passenger.\n",
    "# Doing some quick analysis:\n",
    "classes = []\n",
    "percentages_of_survival_pclass = []\n",
    "\n",
    "for i in range(1, 4):\n",
    "    classes.append(train_data[train_data['Pclass'] == i].iloc[:, 1:3])\n",
    "    percentages_of_survival_pclass.append(sum(classes[i-1]['Survived'])/len(classes[i-1]['Survived']))\n",
    "    print(\n",
    "        f\"{percentages_of_survival_pclass[i-1]}people from the class {i} survived out of a total {len(classes[i-1]['Survived'])}\"\n",
    "    )\n",
    "    \n",
    "\n",
    "fig, axs = plt.subplots(2)\n",
    "axs[0].bar(train_data['Pclass'].value_counts().sort_index().keys().astype(str),\n",
    "        train_data['Pclass'].value_counts().sort_index())\n",
    "axs[0].set_title('Total passengers per class')\n",
    "axs[0].set(xlabel='Pclass', ylabel='Frequency')\n",
    "\n",
    "\n",
    "axs[1].bar(train_data['Pclass'].value_counts().sort_index().keys().astype(str),\n",
    "    percentages_of_survival_pclass)\n",
    "axs[1].set_title('% of Survival per class')\n",
    "axs[1].set(xlabel='Pclass', ylabel='Percentage of Survivors')\n",
    "\n",
    "# 63%, 47.2% and 24.2% are the percentage of people who survived in the classes\n",
    "# 1, 2 and 3 respectively. This tells us that the passengers with the highest\n",
    "# level of socio-economic status appear to have a higher chance of survival\n",
    "\n",
    "# Name column probably wont help us much here because if we take full names into consideration,\n",
    "# almost 100% of them would be unique. We could reduce the feature # to first name, last name or\n",
    "# something like that but even then we might still have way too many unique names.\n",
    "#For now,  we'll move on without this feature.\n",
    "\n",
    "# del train_data[\"Name\"]"
   ]
  },
  {
   "cell_type": "code",
   "execution_count": 368,
   "metadata": {
    "ExecuteTime": {
     "end_time": "2021-04-08T02:39:38.593478Z",
     "start_time": "2021-04-08T02:39:38.429911Z"
    }
   },
   "outputs": [
    {
     "name": "stdout",
     "output_type": "stream",
     "text": [
      "0.2052980132450331 people from the sex male survived out of a total 453 male passengers \n",
      "0.752895752895753 people from the sex female survived out of a total 259 female passengers \n"
     ]
    },
    {
     "ename": "KeyError",
     "evalue": "'Ticket'",
     "output_type": "error",
     "traceback": [
      "\u001b[1;31m---------------------------------------------------------------------------\u001b[0m",
      "\u001b[1;31mKeyError\u001b[0m                                  Traceback (most recent call last)",
      "\u001b[1;32mc:\\users\\frznfrst\\appdata\\local\\programs\\python\\python39\\lib\\site-packages\\pandas\\core\\indexes\\base.py\u001b[0m in \u001b[0;36mget_loc\u001b[1;34m(self, key, method, tolerance)\u001b[0m\n\u001b[0;32m   3079\u001b[0m             \u001b[1;32mtry\u001b[0m\u001b[1;33m:\u001b[0m\u001b[1;33m\u001b[0m\u001b[1;33m\u001b[0m\u001b[0m\n\u001b[1;32m-> 3080\u001b[1;33m                 \u001b[1;32mreturn\u001b[0m \u001b[0mself\u001b[0m\u001b[1;33m.\u001b[0m\u001b[0m_engine\u001b[0m\u001b[1;33m.\u001b[0m\u001b[0mget_loc\u001b[0m\u001b[1;33m(\u001b[0m\u001b[0mcasted_key\u001b[0m\u001b[1;33m)\u001b[0m\u001b[1;33m\u001b[0m\u001b[1;33m\u001b[0m\u001b[0m\n\u001b[0m\u001b[0;32m   3081\u001b[0m             \u001b[1;32mexcept\u001b[0m \u001b[0mKeyError\u001b[0m \u001b[1;32mas\u001b[0m \u001b[0merr\u001b[0m\u001b[1;33m:\u001b[0m\u001b[1;33m\u001b[0m\u001b[1;33m\u001b[0m\u001b[0m\n",
      "\u001b[1;32mpandas\\_libs\\index.pyx\u001b[0m in \u001b[0;36mpandas._libs.index.IndexEngine.get_loc\u001b[1;34m()\u001b[0m\n",
      "\u001b[1;32mpandas\\_libs\\index.pyx\u001b[0m in \u001b[0;36mpandas._libs.index.IndexEngine.get_loc\u001b[1;34m()\u001b[0m\n",
      "\u001b[1;32mpandas\\_libs\\hashtable_class_helper.pxi\u001b[0m in \u001b[0;36mpandas._libs.hashtable.PyObjectHashTable.get_item\u001b[1;34m()\u001b[0m\n",
      "\u001b[1;32mpandas\\_libs\\hashtable_class_helper.pxi\u001b[0m in \u001b[0;36mpandas._libs.hashtable.PyObjectHashTable.get_item\u001b[1;34m()\u001b[0m\n",
      "\u001b[1;31mKeyError\u001b[0m: 'Ticket'",
      "\nThe above exception was the direct cause of the following exception:\n",
      "\u001b[1;31mKeyError\u001b[0m                                  Traceback (most recent call last)",
      "\u001b[1;32m<ipython-input-368-aad6faac6fe4>\u001b[0m in \u001b[0;36m<module>\u001b[1;34m\u001b[0m\n\u001b[0;32m     29\u001b[0m \u001b[1;31m# the ticket number. Could try removing those string parts and use only the numeric\u001b[0m\u001b[1;33m\u001b[0m\u001b[1;33m\u001b[0m\u001b[1;33m\u001b[0m\u001b[0m\n\u001b[0;32m     30\u001b[0m \u001b[1;31m# part but for now i will exclude this variable and see how the model fares\u001b[0m\u001b[1;33m\u001b[0m\u001b[1;33m\u001b[0m\u001b[1;33m\u001b[0m\u001b[0m\n\u001b[1;32m---> 31\u001b[1;33m \u001b[1;32mdel\u001b[0m \u001b[0mtrain_data\u001b[0m\u001b[1;33m[\u001b[0m\u001b[1;34m'Ticket'\u001b[0m\u001b[1;33m]\u001b[0m\u001b[1;33m\u001b[0m\u001b[1;33m\u001b[0m\u001b[0m\n\u001b[0m",
      "\u001b[1;32mc:\\users\\frznfrst\\appdata\\local\\programs\\python\\python39\\lib\\site-packages\\pandas\\core\\generic.py\u001b[0m in \u001b[0;36m__delitem__\u001b[1;34m(self, key)\u001b[0m\n\u001b[0;32m   3964\u001b[0m             \u001b[1;31m# there was no match, this call should raise the appropriate\u001b[0m\u001b[1;33m\u001b[0m\u001b[1;33m\u001b[0m\u001b[1;33m\u001b[0m\u001b[0m\n\u001b[0;32m   3965\u001b[0m             \u001b[1;31m# exception:\u001b[0m\u001b[1;33m\u001b[0m\u001b[1;33m\u001b[0m\u001b[1;33m\u001b[0m\u001b[0m\n\u001b[1;32m-> 3966\u001b[1;33m             \u001b[0mloc\u001b[0m \u001b[1;33m=\u001b[0m \u001b[0mself\u001b[0m\u001b[1;33m.\u001b[0m\u001b[0maxes\u001b[0m\u001b[1;33m[\u001b[0m\u001b[1;33m-\u001b[0m\u001b[1;36m1\u001b[0m\u001b[1;33m]\u001b[0m\u001b[1;33m.\u001b[0m\u001b[0mget_loc\u001b[0m\u001b[1;33m(\u001b[0m\u001b[0mkey\u001b[0m\u001b[1;33m)\u001b[0m\u001b[1;33m\u001b[0m\u001b[1;33m\u001b[0m\u001b[0m\n\u001b[0m\u001b[0;32m   3967\u001b[0m             \u001b[0mself\u001b[0m\u001b[1;33m.\u001b[0m\u001b[0m_mgr\u001b[0m\u001b[1;33m.\u001b[0m\u001b[0midelete\u001b[0m\u001b[1;33m(\u001b[0m\u001b[0mloc\u001b[0m\u001b[1;33m)\u001b[0m\u001b[1;33m\u001b[0m\u001b[1;33m\u001b[0m\u001b[0m\n\u001b[0;32m   3968\u001b[0m \u001b[1;33m\u001b[0m\u001b[0m\n",
      "\u001b[1;32mc:\\users\\frznfrst\\appdata\\local\\programs\\python\\python39\\lib\\site-packages\\pandas\\core\\indexes\\base.py\u001b[0m in \u001b[0;36mget_loc\u001b[1;34m(self, key, method, tolerance)\u001b[0m\n\u001b[0;32m   3080\u001b[0m                 \u001b[1;32mreturn\u001b[0m \u001b[0mself\u001b[0m\u001b[1;33m.\u001b[0m\u001b[0m_engine\u001b[0m\u001b[1;33m.\u001b[0m\u001b[0mget_loc\u001b[0m\u001b[1;33m(\u001b[0m\u001b[0mcasted_key\u001b[0m\u001b[1;33m)\u001b[0m\u001b[1;33m\u001b[0m\u001b[1;33m\u001b[0m\u001b[0m\n\u001b[0;32m   3081\u001b[0m             \u001b[1;32mexcept\u001b[0m \u001b[0mKeyError\u001b[0m \u001b[1;32mas\u001b[0m \u001b[0merr\u001b[0m\u001b[1;33m:\u001b[0m\u001b[1;33m\u001b[0m\u001b[1;33m\u001b[0m\u001b[0m\n\u001b[1;32m-> 3082\u001b[1;33m                 \u001b[1;32mraise\u001b[0m \u001b[0mKeyError\u001b[0m\u001b[1;33m(\u001b[0m\u001b[0mkey\u001b[0m\u001b[1;33m)\u001b[0m \u001b[1;32mfrom\u001b[0m \u001b[0merr\u001b[0m\u001b[1;33m\u001b[0m\u001b[1;33m\u001b[0m\u001b[0m\n\u001b[0m\u001b[0;32m   3083\u001b[0m \u001b[1;33m\u001b[0m\u001b[0m\n\u001b[0;32m   3084\u001b[0m         \u001b[1;32mif\u001b[0m \u001b[0mtolerance\u001b[0m \u001b[1;32mis\u001b[0m \u001b[1;32mnot\u001b[0m \u001b[1;32mNone\u001b[0m\u001b[1;33m:\u001b[0m\u001b[1;33m\u001b[0m\u001b[1;33m\u001b[0m\u001b[0m\n",
      "\u001b[1;31mKeyError\u001b[0m: 'Ticket'"
     ]
    },
    {
     "data": {
      "image/png": "[encoded data removed]",
      "text/plain": [
       "<Figure size 432x288 with 2 Axes>"
      ]
     },
     "metadata": {
      "needs_background": "light"
     },
     "output_type": "display_data"
    }
   ],
   "source": [
    "# Sex:\n",
    "sexes = []\n",
    "percentages_of_survival_sex = []\n",
    "\n",
    "sex = [\"male\", 'female']\n",
    "for i in range(0, 2):\n",
    "    sexes.append(train_data[train_data['Sex'] == sex[i]].loc[:, ['Survived','Sex']])\n",
    "    percentages_of_survival_sex.append(sum(sexes[i]['Survived'])/len(sexes[i]['Survived']))\n",
    "    print(\n",
    "        f\"{percentages_of_survival_sex[i]} people from the sex {sex[i]} survived out of a total {len(sexes[i]['Survived'])} {sex[i]} passengers \"\n",
    "    )\n",
    "\n",
    "fig, axs = plt.subplots(2)\n",
    "axs[0].bar(train_data['Sex'].value_counts().keys(),\n",
    "        train_data['Sex'].value_counts())\n",
    "axs[0].set_title('Total passengers per sex')\n",
    "axs[0].set(xlabel='Sex', ylabel='Frequency')\n",
    "\n",
    "\n",
    "axs[1].bar(train_data['Sex'].value_counts().keys(),\n",
    "    percentages_of_survival_sex)\n",
    "axs[1].set_title('% of Survival per sex')\n",
    "axs[1].set(xlabel='Sex', ylabel='Percentage of Survivors')\n",
    "\n",
    "# It seems 74% of the female passengers survived versus 19% of the male passengers.\n",
    "# this variable will probably be responsible for explaining a lot of the survivors\n",
    "\n",
    "# Ticket column seems a bit weird to me. Some rows have a string mixed up with\n",
    "# the ticket number. Could try removing those string parts and use only the numeric\n",
    "# part but for now i will exclude this variable and see how the model fares\n",
    "del train_data['Ticket']"
   ]
  },
  {
   "cell_type": "code",
   "execution_count": 375,
   "metadata": {
    "ExecuteTime": {
     "end_time": "2021-04-08T02:45:39.563902Z",
     "start_time": "2021-04-08T02:45:39.277793Z"
    }
   },
   "outputs": [
    {
     "data": {
      "text/plain": [
       "<BarContainer object of 3 artists>"
      ]
     },
     "execution_count": 375,
     "metadata": {},
     "output_type": "execute_result"
    },
    {
     "data": {
      "image/png": "[encoded data removed]",
      "text/plain": [
       "<Figure size 432x288 with 2 Axes>"
      ]
     },
     "metadata": {
      "needs_background": "light"
     },
     "output_type": "display_data"
    },
    {
     "data": {
      "image/png": "[encoded data removed]",
      "text/plain": [
       "<Figure size 432x288 with 1 Axes>"
      ]
     },
     "metadata": {
      "needs_background": "light"
     },
     "output_type": "display_data"
    }
   ],
   "source": [
    "# Fare\n",
    "fig, axs = plt.subplots(2)\n",
    "axs[0].set_title('Histogram of the Fare')\n",
    "axs[0].hist(train_data['Fare'])\n",
    "axs[0].set(xlabel='Fare', ylabel='Frequency')\n",
    "\n",
    "axs[1].set_title('Scatterplot of the Fare')\n",
    "axs[1].scatter(train_data['Fare'], train_data['Survived'])\n",
    "axs[1].set(xlabel='Fare', ylabel='Survived')\n",
    "# from the scatterplot, doesnt seem like it tells much.\n",
    "\n",
    "# Embarked\n",
    "\n",
    "percentages_of_survival_embark = []\n",
    "indexes = train_data[['Embarked', 'Survived']].value_counts().keys()\n",
    "embark_classes = sorted(set(train_data['Embarked']))  # classes of embarked\n",
    "for embark_place in embark_classes:\n",
    "    filt = (indexes == (embark_place, 1))  # 1 = survived\n",
    "    filt2 = (train_data['Embarked'].value_counts().keys()\n",
    "             == embark_place)  # total of embark place\n",
    "    percentages_of_survival_embark.append(train_data[['Embarked', 'Survived']].value_counts()[\n",
    "                                          filt][0]/train_data['Embarked'].value_counts()[filt2][0])\n",
    "\n",
    "\n",
    "fig2, ax = plt.subplots()\n",
    "ax.set_title('Chance of Survival by Embark Place')\n",
    "ax.bar(embark_classes, percentages_of_survival_embark)\n",
    "\n",
    "# It seems that people who embarked on C (Cherbourg) have a better chance of survival compared to the\n",
    "# other two embark places"
   ]
  },
  {
   "cell_type": "markdown",
   "metadata": {},
   "source": [
    "Now that we have done an initial analysis on each variable by itself, let's try to understand if there's any kind of correlation between them. Because there are categorical variables and numerical variables it gets a little harder to calculate the correlation between them and there are numerous ways of doing that, but here's what I'm going to do:\n",
    "\n",
    "\n",
    "I'm gonna take every single feature, both categorical and numerical, and create multiple linear regression models with each possible pair of features. In this regression models, we will test if one of the features in the pair can be explained by the other one. If the resulting model for a certain pair is too good of a fit, they are probably highly correlated and there is no need for both of them to be in the model at the same time. Otherwise, they are not highly correlated."
   ]
  }
 ],
 "metadata": {
  "colab": {
   "authorship_tag": "ABX9TyOWayJsBOZLRKx/tQlkjIf1",
   "name": "Titanic.ipynb",
   "provenance": [],
   "toc_visible": true
  },
  "kernelspec": {
   "display_name": "Python 3",
   "language": "python",
   "name": "python3"
  },
  "language_info": {
   "codemirror_mode": {
    "name": "ipython",
    "version": 3
   },
   "file_extension": ".py",
   "mimetype": "text/x-python",
   "name": "python",
   "nbconvert_exporter": "python",
   "pygments_lexer": "ipython3",
   "version": "3.9.1"
  },
  "toc": {
   "base_numbering": 1,
   "nav_menu": {},
   "number_sections": true,
   "sideBar": true,
   "skip_h1_title": false,
   "title_cell": "Table of Contents",
   "title_sidebar": "Contents",
   "toc_cell": false,
   "toc_position": {},
   "toc_section_display": true,
   "toc_window_display": false
  }
 },
 "nbformat": 4,
 "nbformat_minor": 1
}
