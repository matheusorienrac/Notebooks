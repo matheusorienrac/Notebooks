{
 "cells": [
  {
   "cell_type": "markdown",
   "metadata": {},
   "source": [
    "<h1 style=\"text-align: center;\"> Losers Queue Analysis </h1>\n",
    "\n",
    "<p>This notebook contains code used extract match information from Riot's API and analyse it, with the goal of better understanding the League of Legends Matchmaking system and if there are any evidence of the existence of a losers queue</p>\n"
   ]
  },
  {
   "cell_type": "code",
   "execution_count": null,
   "metadata": {
    "ExecuteTime": {
     "end_time": "2021-04-02T03:24:56.362091Z",
     "start_time": "2021-04-02T03:18:53.578987Z"
    }
   },
   "outputs": [],
   "source": [
    "from riotwatcher import LolWatcher, ApiError\n",
    "# import pandas as pd #for some reason pypy isnt able to install pandas so im not using it for now\n",
    "import json\n",
    "import time\n",
    "\n",
    "# stored in a different file so I dont accidentally upload my\n",
    "riot_api_key = open(\"riot_api_key.txt\", \"r\")\n",
    "# api key to git\n",
    "watcher = LolWatcher(riot_api_key.read())\n",
    "my_region = 'euw1'\n",
    "queue = 'RANKED_SOLO_5x5'\n",
    "\n",
    "\n",
    "def downloadChallengerIds(region, queue):\n",
    "    '''\n",
    "        Downloads all 300 challenger account ids from the desired queue and returns a list containing all\n",
    "        of those.\n",
    "    '''\n",
    "    list_of_challengers = watcher.league.challenger_by_queue(my_region, queue)\n",
    "    challenger_accountIds = []\n",
    "    for challenger in list_of_challengers['entries']:\n",
    "        summoner = watcher.summoner.by_id(\n",
    "            my_region, challenger['summonerId'])   # we do this step because\n",
    "        # the challenger_by_queue method does not return AccountId information. In order to get the accountId\n",
    "        # we need to call the summoner.by_id() method and get the accountID returned.\n",
    "        # I can only make a limited amount of requests per 2 minutes, so im using this to not get\n",
    "        time.sleep(1)\n",
    "        # an error\n",
    "        challenger_accountIds.append(summoner['accountId'])\n",
    "    return challenger_accountIds\n",
    "\n",
    "# challenger_accountIds = downloadChallengerIds(my_region, queue)\n",
    "# with open('challenger_account_ids.json', 'w') as f:  # saves the accountIds to disk\n",
    "#     json.dump(challenger_accountIds, f)\n",
    "\n",
    "\n",
    "# with open('challenger_account_ids.json') as f:  # reads the chall account ids saved previously\n",
    "#     challenger_accountIds = json.load(f)\n",
    "\n",
    "\n",
    "def downloadMatchesById(region, accountId, queue):\n",
    "    '''\n",
    "        Returns a list with all last 100 matches played by the accountId\n",
    "    '''\n",
    "    detailed_matches_list = []\n",
    "    matches = watcher.match.matchlist_by_account(\n",
    "        region, accountId, queue)  # gets all the 100 matches ids\n",
    "    for match in matches['matches']:\n",
    "        # waits for a sec so we don't surpass the max amount of requests per minute\n",
    "        time.sleep(1)\n",
    "        #start = time.time()\n",
    "        match_detail = watcher.match.by_id(region, match['gameId'])\n",
    "        #print(f'It took {time.time() - start} seconds to request the match')\n",
    "        #start = time.time()\n",
    "        # this will make filtering easier in mongoDB later\n",
    "        match_detail[\"_id\"] = match_detail[\"gameId\"]\n",
    "        detailed_matches_list.append(match_detail)\n",
    "#         print(\n",
    "#             f'It took {time.time() - start} seconds to append the match to the list')\n",
    "    return detailed_matches_list\n",
    "\n",
    "\n",
    "def downloadMatchesChallenger(region, queue):\n",
    "    '''\n",
    "        Returns a list with all the unique matches played by the challenger players.\n",
    "    '''\n",
    "    challenger_accountIds = downloadChallengerIds(region, queue)\n",
    "    gameIds = []  # gameId is the information we need to request detailed match info\n",
    "    detailed_matches_list = []\n",
    "    for challengerId in challenger_accountIds[0:2]:\n",
    "        time.sleep(1)\n",
    "        matches = watcher.match.matchlist_by_account(\n",
    "            region, challengerId, queue)  # gets all the 100 matches ids\n",
    "        for match in matches['matches']:\n",
    "            gameIds.append(match['gameId'])\n",
    "    print(len(gameIds))  # should be 30k long   \n",
    "    gameIds = list(set(gameIds))  # removes duplicates\n",
    "    print(len(gameIds))  # should only count unique gameids\n",
    "    \n",
    "    try:\n",
    "        for gameId in gameIds:\n",
    "            time.sleep(10)\n",
    "            match_detail = watcher.match.by_id(region, gameId)\n",
    "            # this will make filtering easier in mongoDB later\n",
    "            match_detail[\"_id\"] = match_detail[\"gameId\"]\n",
    "            detailed_matches_list.append(match_detail)\n",
    "        return detailed_matches_list\n",
    "    except:\n",
    "        print('probably requested too much information at once')\n",
    "    finally:\n",
    "        return(detailed_matches_list)\n",
    "\n",
    "\n",
    "challenger_matches = downloadMatchesChallenger(my_region, queue)\n"
   ]
  },
  {
   "cell_type": "code",
   "execution_count": null,
   "metadata": {
    "ExecuteTime": {
     "end_time": "2021-04-02T00:25:18.554590Z",
     "start_time": "2021-04-02T00:25:18.347975Z"
    }
   },
   "outputs": [],
   "source": [
    "len(challenger_matches)\n",
    "# print(challenger_matches)"
   ]
  },
  {
   "cell_type": "code",
   "execution_count": null,
   "metadata": {
    "ExecuteTime": {
     "end_time": "2021-04-02T00:25:40.494175Z",
     "start_time": "2021-04-02T00:25:40.329565Z"
    },
    "scrolled": true
   },
   "outputs": [],
   "source": [
    "# Creating a MongoDB to store match information\n",
    "import pymongo\n",
    "\n",
    "dbclient = pymongo.MongoClient(\"mongodb://localhost:27017/\")\n",
    "mydb = dbclient[\"losers_queue\"]\n",
    "players = mydb[\"players\"]\n",
    "matches = mydb['matches']"
   ]
  },
  {
   "cell_type": "code",
   "execution_count": null,
   "metadata": {
    "ExecuteTime": {
     "end_time": "2021-04-02T02:19:09.174319Z",
     "start_time": "2021-04-02T02:19:08.864606Z"
    },
    "scrolled": true
   },
   "outputs": [],
   "source": [
    "# for each challenger ID, gets information about 100 matches and put them inside mongoDB 'matches'\n",
    "# collection\n",
    "matches.insert_many(challenger_matches, ordered=False)"
   ]
  },
  {
   "cell_type": "markdown",
   "metadata": {},
   "source": [
    "<p> Now that we have added all the match information from the 300 top ranked challenger players, we need to analyze those.  </p>"
   ]
  },
  {
   "cell_type": "code",
   "execution_count": null,
   "metadata": {
    "ExecuteTime": {
     "end_time": "2021-04-01T16:44:25.009650Z",
     "start_time": "2021-04-01T16:44:24.758297Z"
    }
   },
   "outputs": [],
   "source": [
    "# Extracting matches from the collection\n",
    "\n",
    "summoner = \"Lorde Poeira\"\n",
    "query = { \"participantIdentities.player.summonerName:\" f\"{summoner}\"}\n",
    "for match in matches.find(query):\n",
    "  print(match)\n",
    "\n",
    "\n",
    "    \n",
    "# def lastMatch():\n",
    "#     '''\n",
    "#         Asks for a summoner name and tells you if that summoner has won its last match or not\n",
    "#     '''\n",
    "#     summonerName = input('Type your summoner name: ').casefold()\n",
    "#     try:\n",
    "#         summoner = watcher.summoner.by_name(my_region, summonerName)\n",
    "#     except ApiError as err:\n",
    "#         if err.response.status_code == 429:\n",
    "#             print('this retry-after is handled by default by the RiotWatcher library')\n",
    "#             print('future requests wait until the retry-after time passes')\n",
    "#         elif err.response.status_code == 404:\n",
    "#             print('Summoner with that name not found.')\n",
    "#             raise\n",
    "#         else:\n",
    "#             raise\n",
    "\n",
    "#     # all objects are returned (by default) as a dict\n",
    "\n",
    "#     # my_ranked_stats = watcher.league.by_summoner(my_region, summoner['id'])\n",
    "#     # # print(my_ranked_stats)\n",
    "\n",
    "#     my_matches = watcher.match.matchlist_by_account(my_region, summoner['accountId'])\n",
    "\n",
    "\n",
    "#     # fetch last match detail\n",
    "#     last_match = my_matches['matches'][0]\n",
    "#     match_detail = watcher.match.by_id(my_region, last_match['gameId'])\n",
    "\n",
    "#     participants = []\n",
    "#     for row in range(0, 10):\n",
    "#         participants_row = {'win': match_detail['participants'][row]['stats']['win'],\n",
    "#                             'SummonerName': match_detail['participantIdentities'][row]['player']['summonerName'].casefold(),\n",
    "#                             }\n",
    "#         participants.append(participants_row)\n",
    "\n",
    "\n",
    "#     df = pd.DataFrame(participants)\n",
    "\n",
    "#     if not df['win'][df['SummonerName'] == summonerName].empty:\n",
    "#         if df['win'][df['SummonerName'] == summonerName].bool():\n",
    "#             print('You won your last match.')\n",
    "#         else:\n",
    "#             print('You lost your last match')\n",
    "#     else:\n",
    "#         print('Couldn\\'t find information about your last match')\n"
   ]
  },
  {
   "cell_type": "code",
   "execution_count": null,
   "metadata": {},
   "outputs": [],
   "source": []
  }
 ],
 "metadata": {
  "kernelspec": {
   "display_name": "Python (PyPy)",
   "language": "python",
   "name": "pypy3"
  },
  "language_info": {
   "codemirror_mode": {
    "name": "ipython",
    "version": 3
   },
   "file_extension": ".py",
   "mimetype": "text/x-python",
   "name": "python",
   "nbconvert_exporter": "python",
   "pygments_lexer": "ipython3",
   "version": "3.7.9"
  },
  "toc": {
   "base_numbering": 1,
   "nav_menu": {},
   "number_sections": true,
   "sideBar": true,
   "skip_h1_title": false,
   "title_cell": "Table of Contents",
   "title_sidebar": "Contents",
   "toc_cell": false,
   "toc_position": {},
   "toc_section_display": true,
   "toc_window_display": false
  }
 },
 "nbformat": 4,
 "nbformat_minor": 4
}
